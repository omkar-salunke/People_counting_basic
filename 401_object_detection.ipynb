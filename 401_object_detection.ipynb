{
  "cells": [
    {
      "cell_type": "markdown",
      "metadata": {
        "id": "view-in-github",
        "colab_type": "text"
      },
      "source": [
        "<a href=\"https://colab.research.google.com/github/omkar-salunke/People_counting_basic/blob/main/401_object_detection.ipynb\" target=\"_parent\"><img src=\"https://colab.research.google.com/assets/colab-badge.svg\" alt=\"Open In Colab\"/></a>"
      ]
    },
    {
      "cell_type": "markdown",
      "metadata": {
        "id": "Vuljsle6Ovvn"
      },
      "source": [
        "# Live Object Detection with OpenVINO™\n",
        "\n",
        "This notebook demonstrates live object detection with OpenVINO, using the [SSDLite MobileNetV2](https://github.com/openvinotoolkit/open_model_zoo/tree/master/models/public/ssdlite_mobilenet_v2) from [Open Model Zoo](https://github.com/openvinotoolkit/open_model_zoo/). Final part of this notebook shows live inference results from a webcam. Additionally, you can also upload a video file.\n",
        "\n",
        "> **NOTE**: To use this notebook with a webcam, you need to run the notebook on a computer with a webcam. If you run the notebook on a server, the webcam will not work. However, you can still do inference on a video."
      ]
    },
    {
      "cell_type": "markdown",
      "metadata": {
        "id": "4WacrtS4Ovvr"
      },
      "source": [
        "## Imports"
      ]
    },
    {
      "cell_type": "code",
      "source": [
        "!git clone https://github.com/openvinotoolkit/openvino_notebooks.git"
      ],
      "metadata": {
        "colab": {
          "base_uri": "https://localhost:8080/"
        },
        "id": "7UlRTVO-P_4V",
        "outputId": "f93cecc3-0969-4cec-9a50-c160acb8349f"
      },
      "execution_count": 5,
      "outputs": [
        {
          "output_type": "stream",
          "name": "stdout",
          "text": [
            "fatal: destination path 'openvino_notebooks' already exists and is not an empty directory.\n"
          ]
        }
      ]
    },
    {
      "cell_type": "code",
      "source": [
        "!pip install openvino openvino-dev"
      ],
      "metadata": {
        "colab": {
          "base_uri": "https://localhost:8080/"
        },
        "id": "nHs5ObP-PDR2",
        "outputId": "8f4f7e95-1c5c-47bf-8ff4-d80bd208cc42"
      },
      "execution_count": 2,
      "outputs": [
        {
          "output_type": "stream",
          "name": "stdout",
          "text": [
            "Looking in indexes: https://pypi.org/simple, https://us-python.pkg.dev/colab-wheels/public/simple/\n",
            "Requirement already satisfied: openvino in /usr/local/lib/python3.7/dist-packages (2022.1.0)\n",
            "Requirement already satisfied: openvino-dev in /usr/local/lib/python3.7/dist-packages (2022.1.0)\n",
            "Requirement already satisfied: numpy<1.20,>=1.16.6 in /usr/local/lib/python3.7/dist-packages (from openvino) (1.19.5)\n",
            "Requirement already satisfied: pyyaml>=5.4.1 in /usr/local/lib/python3.7/dist-packages (from openvino-dev) (6.0)\n",
            "Requirement already satisfied: tokenizers~=0.10.1 in /usr/local/lib/python3.7/dist-packages (from openvino-dev) (0.10.3)\n",
            "Requirement already satisfied: lmdb>=1.2.1 in /usr/local/lib/python3.7/dist-packages (from openvino-dev) (1.3.0)\n",
            "Requirement already satisfied: requests>=2.25.1 in /usr/local/lib/python3.7/dist-packages (from openvino-dev) (2.28.1)\n",
            "Requirement already satisfied: openvino-telemetry>=2022.1.0 in /usr/local/lib/python3.7/dist-packages (from openvino-dev) (2022.1.1)\n",
            "Requirement already satisfied: py-cpuinfo>=7.0.0 in /usr/local/lib/python3.7/dist-packages (from openvino-dev) (8.0.0)\n",
            "Requirement already satisfied: pydicom>=2.1.2 in /usr/local/lib/python3.7/dist-packages (from openvino-dev) (2.3.0)\n",
            "Requirement already satisfied: nltk>=3.5 in /usr/local/lib/python3.7/dist-packages (from openvino-dev) (3.7)\n",
            "Requirement already satisfied: sentencepiece>=0.1.95 in /usr/local/lib/python3.7/dist-packages (from openvino-dev) (0.1.97)\n",
            "Requirement already satisfied: tqdm>=4.54.1 in /usr/local/lib/python3.7/dist-packages (from openvino-dev) (4.64.0)\n",
            "Requirement already satisfied: scikit-learn~=0.24.1 in /usr/local/lib/python3.7/dist-packages (from openvino-dev) (0.24.2)\n",
            "Requirement already satisfied: parasail>=1.2.4 in /usr/local/lib/python3.7/dist-packages (from openvino-dev) (1.3.3)\n",
            "Requirement already satisfied: opencv-python==4.5.* in /usr/local/lib/python3.7/dist-packages (from openvino-dev) (4.5.5.64)\n",
            "Requirement already satisfied: networkx~=2.6 in /usr/local/lib/python3.7/dist-packages (from openvino-dev) (2.6.3)\n",
            "Requirement already satisfied: pyclipper>=1.2.1 in /usr/local/lib/python3.7/dist-packages (from openvino-dev) (1.3.0.post3)\n",
            "Requirement already satisfied: transformers>=4.5 in /usr/local/lib/python3.7/dist-packages (from openvino-dev) (4.16.2)\n",
            "Requirement already satisfied: nibabel>=3.2.1 in /usr/local/lib/python3.7/dist-packages (from openvino-dev) (4.0.1)\n",
            "Requirement already satisfied: progress>=1.5 in /usr/local/lib/python3.7/dist-packages (from openvino-dev) (1.6)\n",
            "Requirement already satisfied: imagecodecs~=2021.11.20 in /usr/local/lib/python3.7/dist-packages (from openvino-dev) (2021.11.20)\n",
            "Requirement already satisfied: scipy~=1.5.4 in /usr/local/lib/python3.7/dist-packages (from openvino-dev) (1.5.4)\n",
            "Requirement already satisfied: shapely>=1.7.1 in /usr/local/lib/python3.7/dist-packages (from openvino-dev) (1.8.4)\n",
            "Requirement already satisfied: pillow>=8.1.2 in /usr/local/lib/python3.7/dist-packages (from openvino-dev) (9.2.0)\n",
            "Requirement already satisfied: addict>=2.4.0 in /usr/local/lib/python3.7/dist-packages (from openvino-dev) (2.4.0)\n",
            "Requirement already satisfied: fast-ctc-decode>=0.2.5 in /usr/local/lib/python3.7/dist-packages (from openvino-dev) (0.3.2)\n",
            "Requirement already satisfied: jstyleson~=0.0.2 in /usr/local/lib/python3.7/dist-packages (from openvino-dev) (0.0.2)\n",
            "Requirement already satisfied: defusedxml>=0.7.1 in /usr/local/lib/python3.7/dist-packages (from openvino-dev) (0.7.1)\n",
            "Requirement already satisfied: scikit-image>=0.17.2 in /usr/local/lib/python3.7/dist-packages (from openvino-dev) (0.18.3)\n",
            "Requirement already satisfied: pandas~=1.1.5 in /usr/local/lib/python3.7/dist-packages (from openvino-dev) (1.1.5)\n",
            "Requirement already satisfied: texttable~=1.6.3 in /usr/local/lib/python3.7/dist-packages (from openvino-dev) (1.6.4)\n",
            "Requirement already satisfied: rawpy>=0.16.0 in /usr/local/lib/python3.7/dist-packages (from openvino-dev) (0.17.2)\n",
            "Requirement already satisfied: packaging>=17.0 in /usr/local/lib/python3.7/dist-packages (from nibabel>=3.2.1->openvino-dev) (21.3)\n",
            "Requirement already satisfied: setuptools in /usr/local/lib/python3.7/dist-packages (from nibabel>=3.2.1->openvino-dev) (57.4.0)\n",
            "Requirement already satisfied: regex>=2021.8.3 in /usr/local/lib/python3.7/dist-packages (from nltk>=3.5->openvino-dev) (2022.6.2)\n",
            "Requirement already satisfied: joblib in /usr/local/lib/python3.7/dist-packages (from nltk>=3.5->openvino-dev) (1.1.0)\n",
            "Requirement already satisfied: click in /usr/local/lib/python3.7/dist-packages (from nltk>=3.5->openvino-dev) (7.1.2)\n",
            "Requirement already satisfied: pyparsing!=3.0.5,>=2.0.2 in /usr/local/lib/python3.7/dist-packages (from packaging>=17.0->nibabel>=3.2.1->openvino-dev) (3.0.9)\n",
            "Requirement already satisfied: python-dateutil>=2.7.3 in /usr/local/lib/python3.7/dist-packages (from pandas~=1.1.5->openvino-dev) (2.8.2)\n",
            "Requirement already satisfied: pytz>=2017.2 in /usr/local/lib/python3.7/dist-packages (from pandas~=1.1.5->openvino-dev) (2022.2.1)\n",
            "Requirement already satisfied: six>=1.5 in /usr/local/lib/python3.7/dist-packages (from python-dateutil>=2.7.3->pandas~=1.1.5->openvino-dev) (1.15.0)\n",
            "Requirement already satisfied: charset-normalizer<3,>=2 in /usr/local/lib/python3.7/dist-packages (from requests>=2.25.1->openvino-dev) (2.1.0)\n",
            "Requirement already satisfied: certifi>=2017.4.17 in /usr/local/lib/python3.7/dist-packages (from requests>=2.25.1->openvino-dev) (2022.6.15)\n",
            "Requirement already satisfied: urllib3<1.27,>=1.21.1 in /usr/local/lib/python3.7/dist-packages (from requests>=2.25.1->openvino-dev) (1.24.3)\n",
            "Requirement already satisfied: idna<4,>=2.5 in /usr/local/lib/python3.7/dist-packages (from requests>=2.25.1->openvino-dev) (2.10)\n",
            "Requirement already satisfied: imageio>=2.3.0 in /usr/local/lib/python3.7/dist-packages (from scikit-image>=0.17.2->openvino-dev) (2.9.0)\n",
            "Requirement already satisfied: matplotlib!=3.0.0,>=2.0.0 in /usr/local/lib/python3.7/dist-packages (from scikit-image>=0.17.2->openvino-dev) (3.2.2)\n",
            "Requirement already satisfied: tifffile>=2019.7.26 in /usr/local/lib/python3.7/dist-packages (from scikit-image>=0.17.2->openvino-dev) (2021.11.2)\n",
            "Requirement already satisfied: PyWavelets>=1.1.1 in /usr/local/lib/python3.7/dist-packages (from scikit-image>=0.17.2->openvino-dev) (1.3.0)\n",
            "Requirement already satisfied: cycler>=0.10 in /usr/local/lib/python3.7/dist-packages (from matplotlib!=3.0.0,>=2.0.0->scikit-image>=0.17.2->openvino-dev) (0.11.0)\n",
            "Requirement already satisfied: kiwisolver>=1.0.1 in /usr/local/lib/python3.7/dist-packages (from matplotlib!=3.0.0,>=2.0.0->scikit-image>=0.17.2->openvino-dev) (1.4.4)\n",
            "Requirement already satisfied: typing-extensions in /usr/local/lib/python3.7/dist-packages (from kiwisolver>=1.0.1->matplotlib!=3.0.0,>=2.0.0->scikit-image>=0.17.2->openvino-dev) (4.1.1)\n",
            "Requirement already satisfied: threadpoolctl>=2.0.0 in /usr/local/lib/python3.7/dist-packages (from scikit-learn~=0.24.1->openvino-dev) (3.1.0)\n",
            "Requirement already satisfied: filelock in /usr/local/lib/python3.7/dist-packages (from transformers>=4.5->openvino-dev) (3.8.0)\n",
            "Requirement already satisfied: huggingface-hub<1.0,>=0.1.0 in /usr/local/lib/python3.7/dist-packages (from transformers>=4.5->openvino-dev) (0.9.1)\n",
            "Requirement already satisfied: sacremoses in /usr/local/lib/python3.7/dist-packages (from transformers>=4.5->openvino-dev) (0.0.53)\n",
            "Requirement already satisfied: importlib-metadata in /usr/local/lib/python3.7/dist-packages (from transformers>=4.5->openvino-dev) (4.12.0)\n",
            "Requirement already satisfied: zipp>=0.5 in /usr/local/lib/python3.7/dist-packages (from importlib-metadata->transformers>=4.5->openvino-dev) (3.8.1)\n"
          ]
        }
      ]
    },
    {
      "cell_type": "code",
      "execution_count": 2,
      "metadata": {
        "pycharm": {
          "name": "#%%\n"
        },
        "id": "m9KKMoz8Ovvs"
      },
      "outputs": [],
      "source": [
        "import sys\n",
        "sys.path.append(\"/content/openvino_notebooks/notebooks/utils/\")\n",
        "import notebook_utils as utils\n",
        "\n",
        "import collections\n",
        "import os\n",
        "\n",
        "import time\n",
        "\n",
        "import cv2\n",
        "import numpy as np\n",
        "from IPython import display\n",
        "from openvino.runtime import Core\n",
        "\n"
      ]
    },
    {
      "cell_type": "markdown",
      "metadata": {
        "id": "ZWBK0B_IOvvt"
      },
      "source": [
        "## The Model\n",
        "\n",
        "### Download the Model\n",
        "\n",
        "Use `omz_downloader`, which is a command-line tool from the `openvino-dev` package. It automatically creates a directory structure and downloads the selected model. This step is skipped if the model is already downloaded. The selected model comes from the public directory, which means it must be converted into OpenVINO Intermediate Representation (OpenVINO IR).\n",
        "\n",
        "If you want to download another model (`ssdlite_mobilenet_v2`, `ssd_mobilenet_v1_coco`, `ssd_mobilenet_v2_coco`, `ssd_resnet50_v1_fpn_coco`, `ssd_mobilenet_v1_fpn_coco`) , replace the name of the model in the code below. \n",
        "\n",
        "> **NOTE**: Using a model outside the list can require different pre- and post-processing."
      ]
    },
    {
      "cell_type": "code",
      "execution_count": 3,
      "metadata": {
        "pycharm": {
          "name": "#%%\n"
        },
        "colab": {
          "base_uri": "https://localhost:8080/"
        },
        "id": "drGXkWLmOvvu",
        "outputId": "afd9516b-4a5f-4872-d1b6-7ef9e6071cc3"
      },
      "outputs": [
        {
          "output_type": "stream",
          "name": "stdout",
          "text": [
            "################|| Downloading ssdlite_mobilenet_v2 ||################\n",
            "\n",
            "========== Retrieving model/public/ssdlite_mobilenet_v2/ssdlite_mobilenet_v2_coco_2018_05_09.tar.gz from the cache\n",
            "\n",
            "========== Unpacking model/public/ssdlite_mobilenet_v2/ssdlite_mobilenet_v2_coco_2018_05_09.tar.gz\n",
            "\n"
          ]
        }
      ],
      "source": [
        "# A directory where the model will be downloaded.\n",
        "base_model_dir = \"model\"\n",
        "\n",
        "# The name of the model from Open Model Zoo\n",
        "model_name = \"ssdlite_mobilenet_v2\"\n",
        "\n",
        "download_command = f\"omz_downloader \" \\\n",
        "                   f\"--name {model_name} \" \\\n",
        "                   f\"--output_dir {base_model_dir} \" \\\n",
        "                   f\"--cache_dir {base_model_dir}\"\n",
        "! $download_command"
      ]
    },
    {
      "cell_type": "markdown",
      "metadata": {
        "pycharm": {
          "name": "#%% md\n"
        },
        "id": "3RxDjdN2Ovvv"
      },
      "source": [
        "### Convert the Model\n",
        "\n",
        "The pre-trained model is in TensorFlow format. To use it with OpenVINO, convert it to OpenVINO IR format. Use Model Converter (`omz_converter`), which is another command-line tool from the `openvino-dev` package. If you do not specify a precision, the model will be converted many times to all available precisions (`FP32` and `FP16` in this case). Every conversion should take up to 2 minutes. If the model has been already converted, this step is skipped.\n",
        "\n",
        "> **NOTE**: Each model may have different precisions available."
      ]
    },
    {
      "cell_type": "code",
      "execution_count": 4,
      "metadata": {
        "pycharm": {
          "name": "#%%\n"
        },
        "id": "VUkOEg_oOvvv"
      },
      "outputs": [],
      "source": [
        "precision = \"FP16\"\n",
        "\n",
        "# The output path for the conversion.\n",
        "converted_model_path = f\"model/public/{model_name}/{precision}/{model_name}.xml\"\n",
        "\n",
        "if not os.path.exists(converted_model_path):\n",
        "    convert_command = f\"omz_converter \" \\\n",
        "                      f\"--name {model_name} \" \\\n",
        "                      f\"--download_dir {base_model_dir} \" \\\n",
        "                      f\"--precisions {precision}\"\n",
        "    ! $convert_command"
      ]
    },
    {
      "cell_type": "markdown",
      "metadata": {
        "id": "vbzJiCkGOvvv"
      },
      "source": [
        "### Load the Model\n",
        "\n",
        "Downloaded models are located in a fixed structure, which indicates a vendor (intel or public), the name of the model and a precision.\n",
        "\n",
        "Only a few lines of code are required to run the model. First, initialize OpenVINO Runtime. Then, read the network architecture and model weights from the `.bin` and `.xml` files to compile for the desired device. If you choose `GPU` you need to wait for a while, as the startup time is much longer than in the case of `CPU`.\n",
        "\n",
        "There is a possibility to allow OpenVINO to decide which hardware offers the best performance. In that case, just use `AUTO`. Remember that for most cases the best hardware is `GPU` (better performance, but longer startup time)."
      ]
    },
    {
      "cell_type": "code",
      "execution_count": 5,
      "metadata": {
        "pycharm": {
          "name": "#%%\n"
        },
        "id": "xV9LvOKIOvvw"
      },
      "outputs": [],
      "source": [
        "# Initialize OpenVINO Runtime.\n",
        "ie_core = Core()\n",
        "# Read the network and corresponding weights from a file.\n",
        "model = ie_core.read_model(model=converted_model_path)\n",
        "# Compile the model for CPU (you can choose manually CPU, GPU, MYRIAD etc.)\n",
        "# or let the engine choose the best available device (AUTO).\n",
        "compiled_model = ie_core.compile_model(model=model, device_name=\"CPU\")\n",
        "\n",
        "# Get the input and output nodes.\n",
        "input_layer = compiled_model.input(0)\n",
        "output_layer = compiled_model.output(0)\n",
        "\n",
        "# Get the input size.\n",
        "height, width = list(input_layer.shape)[1:3]"
      ]
    },
    {
      "cell_type": "markdown",
      "metadata": {
        "id": "LhC4dBWBOvvx"
      },
      "source": [
        "Input and output layers have the names of the input node and output node respectively. In the case of SSDLite MobileNetV2, there is 1 input and 1 output."
      ]
    },
    {
      "cell_type": "code",
      "execution_count": 6,
      "metadata": {
        "pycharm": {
          "name": "#%%\n"
        },
        "colab": {
          "base_uri": "https://localhost:8080/"
        },
        "id": "HE2MApGxOvvx",
        "outputId": "4f950d58-2556-427b-96e0-df1363c6116c"
      },
      "outputs": [
        {
          "output_type": "execute_result",
          "data": {
            "text/plain": [
              "('image_tensor', 'detection_boxes')"
            ]
          },
          "metadata": {},
          "execution_count": 6
        }
      ],
      "source": [
        "input_layer.any_name, output_layer.any_name"
      ]
    },
    {
      "cell_type": "markdown",
      "metadata": {
        "pycharm": {
          "name": "#%% md\n"
        },
        "id": "WO9gnbPQOvvy"
      },
      "source": [
        "## Processing\n",
        "\n",
        "### Process Results\n",
        "\n",
        "First, list all available classes and create colors for them. Then, in the post-process stage, transform boxes with normalized coordinates `[0, 1]` into boxes with pixel coordinates `[0, image_size_in_px]`. Afterward, use [non-maximum suppression](https://paperswithcode.com/method/non-maximum-suppression) to reject overlapping detections and those below the probability threshold (0.5). Finally, draw boxes and labels inside them."
      ]
    },
    {
      "cell_type": "code",
      "execution_count": 7,
      "metadata": {
        "pycharm": {
          "name": "#%%\n"
        },
        "id": "o6M-XaCBOvvy"
      },
      "outputs": [],
      "source": [
        "# https://tech.amikelive.com/node-718/what-object-categories-labels-are-in-coco-dataset/\n",
        "classes = [\n",
        "    \"background\", \"person\", \"bicycle\", \"car\", \"motorcycle\", \"airplane\", \"bus\", \"train\",\n",
        "    \"truck\", \"boat\", \"traffic light\", \"fire hydrant\", \"street sign\", \"stop sign\",\n",
        "    \"parking meter\", \"bench\", \"bird\", \"cat\", \"dog\", \"horse\", \"sheep\", \"cow\", \"elephant\",\n",
        "    \"bear\", \"zebra\", \"giraffe\", \"hat\", \"backpack\", \"umbrella\", \"shoe\", \"eye glasses\",\n",
        "    \"handbag\", \"tie\", \"suitcase\", \"frisbee\", \"skis\", \"snowboard\", \"sports ball\", \"kite\",\n",
        "    \"baseball bat\", \"baseball glove\", \"skateboard\", \"surfboard\", \"tennis racket\", \"bottle\",\n",
        "    \"plate\", \"wine glass\", \"cup\", \"fork\", \"knife\", \"spoon\", \"bowl\", \"banana\", \"apple\",\n",
        "    \"sandwich\", \"orange\", \"broccoli\", \"carrot\", \"hot dog\", \"pizza\", \"donut\", \"cake\", \"chair\",\n",
        "    \"couch\", \"potted plant\", \"bed\", \"mirror\", \"dining table\", \"window\", \"desk\", \"toilet\",\n",
        "    \"door\", \"tv\", \"laptop\", \"mouse\", \"remote\", \"keyboard\", \"cell phone\", \"microwave\", \"oven\",\n",
        "    \"toaster\", \"sink\", \"refrigerator\", \"blender\", \"book\", \"clock\", \"vase\", \"scissors\",\n",
        "    \"teddy bear\", \"hair drier\", \"toothbrush\", \"hair brush\"\n",
        "]\n",
        "\n",
        "# Colors for the classes above (Rainbow Color Map).\n",
        "colors = cv2.applyColorMap(\n",
        "    src=np.arange(0, 255, 255 / len(classes), dtype=np.float32).astype(np.uint8),\n",
        "    colormap=cv2.COLORMAP_RAINBOW,\n",
        ").squeeze()\n",
        "\n",
        "\n",
        "def process_results(frame, results, thresh=0.6):\n",
        "    # The size of the original frame.\n",
        "    h, w = frame.shape[:2]\n",
        "    # The 'results' variable is a [1, 1, 100, 7] tensor.\n",
        "    results = results.squeeze()\n",
        "    boxes = []\n",
        "    labels = []\n",
        "    scores = []\n",
        "    for _, label, score, xmin, ymin, xmax, ymax in results:\n",
        "        # Create a box with pixels coordinates from the box with normalized coordinates [0,1].\n",
        "        boxes.append(\n",
        "            tuple(map(int, (xmin * w, ymin * h, (xmax - xmin) * w, (ymax - ymin) * h)))\n",
        "        )\n",
        "        labels.append(int(label))\n",
        "        scores.append(float(score))\n",
        "\n",
        "    # Apply non-maximum suppression to get rid of many overlapping entities.\n",
        "    # See https://paperswithcode.com/method/non-maximum-suppression\n",
        "    # This algorithm returns indices of objects to keep.\n",
        "    indices = cv2.dnn.NMSBoxes(\n",
        "        bboxes=boxes, scores=scores, score_threshold=thresh, nms_threshold=0.6\n",
        "    )\n",
        "\n",
        "    # If there are no boxes.\n",
        "    if len(indices) == 0:\n",
        "        return []\n",
        "\n",
        "    # Filter detected objects.\n",
        "    return [(labels[idx], scores[idx], boxes[idx]) for idx in indices.flatten()]\n",
        "\n",
        "\n",
        "def draw_boxes(frame, boxes):\n",
        "    for label, score, box in boxes:\n",
        "        # Choose color for the label.\n",
        "        color = tuple(map(int, colors[label]))\n",
        "        # Draw a box.\n",
        "        x2 = box[0] + box[2]\n",
        "        y2 = box[1] + box[3]\n",
        "        cv2.rectangle(img=frame, pt1=box[:2], pt2=(x2, y2), color=color, thickness=3)\n",
        "\n",
        "        # Draw a label name inside the box.\n",
        "        cv2.putText(\n",
        "            img=frame,\n",
        "            text=f\"{classes[label]} {score:.2f}\",\n",
        "            org=(box[0] + 10, box[1] + 30),\n",
        "            fontFace=cv2.FONT_HERSHEY_COMPLEX,\n",
        "            fontScale=frame.shape[1] / 1000,\n",
        "            color=color,\n",
        "            thickness=1,\n",
        "            lineType=cv2.LINE_AA,\n",
        "        )\n",
        "\n",
        "    return frame"
      ]
    },
    {
      "cell_type": "markdown",
      "metadata": {
        "id": "lDunXtagOvvz"
      },
      "source": [
        "### Main Processing Function\n",
        "\n",
        "Run object detection on the specified source. Either a webcam or a video file."
      ]
    },
    {
      "cell_type": "code",
      "execution_count": 8,
      "metadata": {
        "pycharm": {
          "name": "#%%\n"
        },
        "id": "NPpPNLNAOvvz"
      },
      "outputs": [],
      "source": [
        "# Main processing function to run object detection.\n",
        "def run_object_detection(source=0, flip=False, use_popup=False, skip_first_frames=0):\n",
        "    player = None\n",
        "    try:\n",
        "        # Create a video player to play with target fps.\n",
        "        player = utils.VideoPlayer(\n",
        "            source=source, flip=flip, fps=30, skip_first_frames=skip_first_frames\n",
        "        )\n",
        "        # Start capturing.\n",
        "        player.start()\n",
        "        if use_popup:\n",
        "            title = \"Press ESC to Exit\"\n",
        "            cv2.namedWindow(\n",
        "                winname=title, flags=cv2.WINDOW_GUI_NORMAL | cv2.WINDOW_AUTOSIZE\n",
        "            )\n",
        "\n",
        "        processing_times = collections.deque()\n",
        "        while True:\n",
        "            # Grab the frame.\n",
        "            frame = player.next()\n",
        "            if frame is None:\n",
        "                print(\"Source ended\")\n",
        "                break\n",
        "            # If the frame is larger than full HD, reduce size to improve the performance.\n",
        "            scale = 1280 / max(frame.shape)\n",
        "            if scale < 1:\n",
        "                frame = cv2.resize(\n",
        "                    src=frame,\n",
        "                    dsize=None,\n",
        "                    fx=scale,\n",
        "                    fy=scale,\n",
        "                    interpolation=cv2.INTER_AREA,\n",
        "                )\n",
        "\n",
        "            # Resize the image and change dims to fit neural network input.\n",
        "            input_img = cv2.resize(\n",
        "                src=frame, dsize=(width, height), interpolation=cv2.INTER_AREA\n",
        "            )\n",
        "            # Create a batch of images (size = 1).\n",
        "            input_img = input_img[np.newaxis, ...]\n",
        "\n",
        "            # Measure processing time.\n",
        "\n",
        "            start_time = time.time()\n",
        "            # Get the results.\n",
        "            results = compiled_model([input_img])[output_layer]\n",
        "            stop_time = time.time()\n",
        "            # Get poses from network results.\n",
        "            boxes = process_results(frame=frame, results=results)\n",
        "\n",
        "            # Draw boxes on a frame.\n",
        "            frame = draw_boxes(frame=frame, boxes=boxes)\n",
        "\n",
        "            processing_times.append(stop_time - start_time)\n",
        "            # Use processing times from last 200 frames.\n",
        "            if len(processing_times) > 200:\n",
        "                processing_times.popleft()\n",
        "\n",
        "            _, f_width = frame.shape[:2]\n",
        "            # Mean processing time [ms].\n",
        "            processing_time = np.mean(processing_times) * 1000\n",
        "            fps = 1000 / processing_time\n",
        "            cv2.putText(\n",
        "                img=frame,\n",
        "                text=f\"Inference time: {processing_time:.1f}ms ({fps:.1f} FPS)\",\n",
        "                org=(20, 40),\n",
        "                fontFace=cv2.FONT_HERSHEY_COMPLEX,\n",
        "                fontScale=f_width / 1000,\n",
        "                color=(0, 0, 255),\n",
        "                thickness=1,\n",
        "                lineType=cv2.LINE_AA,\n",
        "            )\n",
        "\n",
        "            # Use this workaround if there is flickering.\n",
        "            if use_popup:\n",
        "                cv2.imshow(winname=title, mat=frame)\n",
        "                key = cv2.waitKey(1)\n",
        "                # escape = 27\n",
        "                if key == 27:\n",
        "                    break\n",
        "            else:\n",
        "                # Encode numpy array to jpg.\n",
        "                _, encoded_img = cv2.imencode(\n",
        "                    ext=\".jpg\", img=frame, params=[cv2.IMWRITE_JPEG_QUALITY, 100]\n",
        "                )\n",
        "                # Create an IPython image.\n",
        "                i = display.Image(data=encoded_img)\n",
        "                # Display the image in this notebook.\n",
        "                display.clear_output(wait=True)\n",
        "                display.display(i)\n",
        "    # ctrl-c\n",
        "    except KeyboardInterrupt:\n",
        "        print(\"Interrupted\")\n",
        "    # any different error\n",
        "    except RuntimeError as e:\n",
        "        print(e)\n",
        "    finally:\n",
        "        if player is not None:\n",
        "            # Stop capturing.\n",
        "            player.stop()\n",
        "        if use_popup:\n",
        "            cv2.destroyAllWindows()"
      ]
    },
    {
      "cell_type": "markdown",
      "metadata": {
        "id": "a0WukX76Ovv0"
      },
      "source": [
        "## Run\n",
        "\n",
        "### Run Live Object Detection\n",
        "\n",
        "Use a webcam as the video input. By default, the primary webcam is set with `source=0`. If you have multiple webcams, each one will be assigned a consecutive number starting at 0. Set `flip=True` when using a front-facing camera. Some web browsers, especially Mozilla Firefox, may cause flickering. If you experience flickering, set `use_popup=True`.\n",
        "\n",
        "> **NOTE**: To use this notebook with a webcam, you need to run the notebook on a computer with a webcam. If you run the notebook on a server (for example, Binder), the webcam will not work. Popup mode may not work if you run this notebook on a remote computer (for example, Binder).\n",
        "\n",
        "Run the object detection:"
      ]
    },
    {
      "cell_type": "code",
      "execution_count": 14,
      "metadata": {
        "pycharm": {
          "name": "#%%\n"
        },
        "colab": {
          "base_uri": "https://localhost:8080/"
        },
        "id": "aBox5qrkOvv1",
        "outputId": "ac27c2a3-9129-45c5-ddb9-fe7ed109eb51"
      },
      "outputs": [
        {
          "output_type": "stream",
          "name": "stdout",
          "text": [
            "Cannot open camera 0\n"
          ]
        }
      ],
      "source": [
        "run_object_detection(source=0, flip=True, use_popup=False)"
      ]
    },
    {
      "cell_type": "markdown",
      "metadata": {
        "id": "scpdZVnXOvv1"
      },
      "source": [
        "### Run Object Detection on a Video File\n",
        "\n",
        "If you do not have a webcam, you can still run this demo with a video file. Any [format supported by OpenCV](https://docs.opencv.org/4.5.1/dd/d43/tutorial_py_video_display.html) will work."
      ]
    },
    {
      "cell_type": "code",
      "execution_count": null,
      "metadata": {
        "pycharm": {
          "name": "#%%\n"
        },
        "test_replace": {
          "use_popup=False": "use_popup=False, skip_first_frames=280"
        },
        "id": "omvqVSoGOvv2"
      },
      "outputs": [],
      "source": [
        "video_file = \"/content/1_2022-08-27_12-15-00.mp4\"\n",
        "\n",
        "\n",
        "run_object_detection(source=video_file, flip=False, use_popup=False)"
      ]
    },
    {
      "cell_type": "markdown",
      "metadata": {
        "pycharm": {
          "name": "#%% md\n"
        },
        "id": "AkF5fW6YOvv2"
      },
      "source": [
        "## References\n",
        "\n",
        "1. [SSDLite MobileNetV2](https://github.com/openvinotoolkit/open_model_zoo/tree/master/models/public/ssdlite_mobilenet_v2)\n",
        "2. [Open Model Zoo](https://github.com/openvinotoolkit/open_model_zoo/)\n",
        "3. [Non-Maximum Suppression](https://paperswithcode.com/method/non-maximum-suppression)"
      ]
    }
  ],
  "metadata": {
    "kernelspec": {
      "display_name": "Python 3",
      "language": "python",
      "name": "python3"
    },
    "language_info": {
      "codemirror_mode": {
        "name": "ipython",
        "version": 3
      },
      "file_extension": ".py",
      "mimetype": "text/x-python",
      "name": "python",
      "nbconvert_exporter": "python",
      "pygments_lexer": "ipython3",
      "version": "3.8.10"
    },
    "colab": {
      "name": "401-object-detection.ipynb",
      "provenance": [],
      "include_colab_link": true
    }
  },
  "nbformat": 4,
  "nbformat_minor": 0
}